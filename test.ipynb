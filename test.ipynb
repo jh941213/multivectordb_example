{
 "cells": [
  {
   "cell_type": "code",
   "execution_count": null,
   "metadata": {},
   "outputs": [],
   "source": [
    "from graphviz import Digraph\n",
    "\n",
    "def visualize_agent_workflow():\n",
    "    \"\"\"LangGraph 워크플로우 시각화\"\"\"\n",
    "    dot = Digraph(comment='KTDS QA Agent Workflow')\n",
    "    dot.attr(rankdir='LR')  # 왼쪽에서 오른쪽으로 방향 설정\n",
    "    \n",
    "    # 노드 추가\n",
    "    dot.node('agent', 'Agent\\n(LLM)', shape='box')\n",
    "    dot.node('tools', 'Tools\\n(VectorDB/Perplexity)', shape='box')\n",
    "    dot.node('END', 'END', shape='doublecircle')\n",
    "    \n",
    "    # 엣지 추가\n",
    "    dot.edge('agent', 'tools', 'continue\\n(has tool_calls)')\n",
    "    dot.edge('tools', 'agent', 'process results')\n",
    "    dot.edge('agent', 'END', 'end\\n(no tool_calls)')\n",
    "    \n",
    "    return dot\n",
    "\n",
    "# 워크플로우 시각화\n",
    "def create_qa_react_agent():\n",
    "    \"\"\"KT DS QA ReAct 에이전트 생성\"\"\"\n",
    "    # ... (기존 코드 유지)\n",
    "    \n",
    "    # 그래프 구성\n",
    "    workflow = StateGraph(AgentState)\n",
    "    workflow.add_node(\"agent\", call_model)\n",
    "    workflow.add_node(\"tools\", tool_node)\n",
    "    workflow.set_entry_point(\"agent\")\n",
    "    \n",
    "    workflow.add_conditional_edges(\n",
    "        \"agent\",\n",
    "        should_continue,\n",
    "        {\n",
    "            \"continue\": \"tools\",\n",
    "            \"end\": END,\n",
    "        },\n",
    "    )\n",
    "    workflow.add_edge(\"tools\", \"agent\")\n",
    "    \n",
    "    # 워크플로우 시각화 및 이미지 저장\n",
    "    graph = visualize_agent_workflow()\n",
    "    graph.render(\"ktds_qa_workflow\", format=\"png\", cleanup=True)\n",
    "    \n",
    "    return workflow.compile()\n",
    "\n",
    "output_path = os.path.join(os.getcwd(), \"ktds_qa_workflow\")\n",
    "file_path = graph.render(output_path, format=\"png\", cleanup=False)\n",
    "print(f\"파일 생성 경로: {file_path}\")\n",
    "\n",
    "# Jupyter Notebook에서 표시\n",
    "display(Image(filename=f\"{file_path}\"))\n"
   ]
  }
 ],
 "metadata": {
  "kernelspec": {
   "display_name": "kospi",
   "language": "python",
   "name": "python3"
  },
  "language_info": {
   "codemirror_mode": {
    "name": "ipython",
    "version": 3
   },
   "file_extension": ".py",
   "mimetype": "text/x-python",
   "name": "python",
   "nbconvert_exporter": "python",
   "pygments_lexer": "ipython3",
   "version": "3.11.9"
  }
 },
 "nbformat": 4,
 "nbformat_minor": 2
}
